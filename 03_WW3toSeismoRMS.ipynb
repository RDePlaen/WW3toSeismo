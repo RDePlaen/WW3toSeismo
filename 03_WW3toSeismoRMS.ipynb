{
 "cells": [
  {
   "cell_type": "markdown",
   "metadata": {},
   "source": [
    "# Using  WW3 models to generate $\\delta_{rms}(\\lambda,\\phi)$ for any $(\\lambda,\\phi)$ pair"
   ]
  },
  {
   "cell_type": "code",
   "execution_count": 1,
   "metadata": {},
   "outputs": [
    {
     "data": {
      "text/html": [
       "<style>.container { width:80% !important; }</style>"
      ],
      "text/plain": [
       "<IPython.core.display.HTML object>"
      ]
     },
     "metadata": {},
     "output_type": "display_data"
    }
   ],
   "source": [
    "from IPython.core.display import display, HTML\n",
    "display(HTML(\"<style>.container { width:80% !important; }</style>\")) \n",
    "from IPython.core.interactiveshell import InteractiveShell\n",
    "InteractiveShell.ast_node_interactivity = \"last_expr\"\n",
    "import os\n",
    "import pandas as pd\n",
    "import matplotlib.pyplot as plt\n",
    "from netCDF4 import Dataset as netcdf_dataset\n",
    "import netCDF4\n",
    "import numpy as np\n",
    "from scipy import interpolate\n",
    "import scipy.integrate\n",
    "from obspy.geodetics.base import gps2dist_azimuth\n",
    "from obspy import UTCDateTime\n",
    "from obspy.geodetics.base import kilometer2degrees, locations2degrees\n",
    "import numpy.matlib\n",
    "\n",
    "\n",
    "import warnings\n",
    "warnings.filterwarnings('ignore')\n",
    "\n",
    "\n",
    "from cartopy import config\n",
    "import cartopy.crs as ccrs\n",
    "os.environ[\"CARTOPY_USER_BACKGROUNDS\"] = \"BG/\"\n",
    "\n",
    "import ww32seismo\n",
    "from ww32seismo import *"
   ]
  },
  {
   "cell_type": "markdown",
   "metadata": {},
   "source": [
    "Import configurations and Settings"
   ]
  },
  {
   "cell_type": "code",
   "execution_count": 11,
   "metadata": {},
   "outputs": [],
   "source": [
    "import dynamic_yaml\n",
    "with open(\"config.yml\", 'r') as f:\n",
    "    configs = dynamic_yaml.load(f)\n",
    "\n",
    "target = configs.params.station\n",
    "target_lat = configs.params.station_lat\n",
    "target_lon = configs.params.station_lon\n",
    "rhos = configs.params.rhos\n",
    "beta = configs.params.beta\n",
    "Rg = configs.params.Rg\n",
    "Q = configs.params.Q\n",
    "Re = 4.0e7/(2*np.pi)\n",
    "depth_file = configs.files.depth"
   ]
  },
  {
   "cell_type": "code",
   "execution_count": 3,
   "metadata": {
    "scrolled": true
   },
   "outputs": [],
   "source": [
    "#  needed files: Rayleigh_source.txt, depth file, and 2 models with and without reflection /!\\\n",
    "\n",
    "dataset = netcdf_dataset(r\"{}\".format(depth_file))\n",
    "dpt = pd.DataFrame(np.asarray(dataset.variables[\"dpt\"])[50,:,:], columns=dataset.variables[\"longitude\"], index=dataset.variables[\"latitude\"])\n",
    "dpt[dpt==-32767] *= 0.0\n",
    "dpt[dpt<=0.0] = 0.0\n",
    "\n",
    "if not os.path.isdir(\"DATA\"):\n",
    "    os.mkdir(\"DATA\")\n",
    "if not os.path.isdir(\"FIGURES\"):\n",
    "    os.mkdir(\"FIGURES\")    \n",
    "if not os.path.isdir(\"DATA/Q\"):\n",
    "    os.mkdirs(\"DATA/Q\")"
   ]
  },
  {
   "cell_type": "markdown",
   "metadata": {},
   "source": [
    "# Plot depth and distance"
   ]
  },
  {
   "cell_type": "code",
   "execution_count": 4,
   "metadata": {},
   "outputs": [],
   "source": [
    "lats, lons, distance_df = ww32seismo.get_distance(configs, dataset, dpt, plot=False)"
   ]
  },
  {
   "cell_type": "code",
   "execution_count": 5,
   "metadata": {},
   "outputs": [],
   "source": [
    "df = pd.read_csv(r\"DATA/Rayleigh_source.txt\", header=None, delim_whitespace=True, index_col=0)\n",
    "df.index *= np.pi\n",
    "df = df.fillna(0.0)\n",
    "C_base = (df[:8]**2).sum(axis=1)\n",
    "C_base.at[C_base.index[-1]+0.01] = 0.0\n",
    "C_base.at[-1.0] = 0.0\n",
    "C_base.at[20.0] = 0.0\n",
    "C_base = C_base.sort_index()\n",
    "\n",
    "Cf = interpolate.interp1d(C_base.index, C_base)"
   ]
  },
  {
   "cell_type": "markdown",
   "metadata": {},
   "source": [
    "# TEMP"
   ]
  },
  {
   "cell_type": "code",
   "execution_count": 6,
   "metadata": {},
   "outputs": [],
   "source": [
    "month = 10\n",
    "beta = configs.params.beta\n",
    "CgR = configs.params.Rg\n",
    "target = configs.params.station\n",
    "factor1, alpha, alpha2 = alpha_distance(configs,Re, distance_df)\n",
    "fn = os.path.join(configs.files.p2l_dir,\"LOPS_WW3-GLOB-30M_2021{}_p2l.nc\".format(month))\n",
    "fname = r\"{}\".format(fn)\n",
    "dataset = netcdf_dataset(fname)\n",
    "lats = dataset.variables['latitude'][:]\n",
    "lons = dataset.variables['longitude'][:]\n",
    "times = dataset.variables['time']\n",
    "times = netCDF4.num2date(times[:],times.units)\n",
    "freqs = dataset.variables['f'][:] # ocean wave frequency"
   ]
  },
  {
   "cell_type": "code",
   "execution_count": 7,
   "metadata": {},
   "outputs": [
    {
     "data": {
      "image/png": "[encoded data removed]",
      "text/plain": [
       "<Figure size 432x288 with 1 Axes>"
      ]
     },
     "metadata": {
      "needs_background": "light"
     },
     "output_type": "display_data"
    }
   ],
   "source": [
    "period = False\n",
    "Qf=(0.4+0.4*(1-np.tanh(15*(2*freqs-0.14))))*Q\n",
    "plt.figure()\n",
    "plt.title(\"Q vs Frequency from Q = {}\".format(Q))\n",
    "if period:\n",
    "    plt.plot(1/freqs, Qf)\n",
    "    plt.xlabel(\"Period (s)\")\n",
    "else:\n",
    "    plt.plot(freqs, Qf)\n",
    "    plt.xlabel(\"Frequency\")\n",
    "plt.ylabel(\"Q\")\n",
    "plt.show()"
   ]
  },
  {
   "cell_type": "code",
   "execution_count": 8,
   "metadata": {},
   "outputs": [
    {
     "data": {
      "image/png": "[encoded data removed]",
      "text/plain": [
       "<Figure size 432x288 with 1 Axes>"
      ]
     },
     "metadata": {
      "needs_background": "light"
     },
     "output_type": "display_data"
    }
   ],
   "source": [
    "Qf = np.ones(len(freqs)) * Q\n",
    "plt.figure()\n",
    "plt.title(\"Q vs Frequency\")\n",
    "plt.plot(freqs, Qf)\n",
    "plt.xlabel(\"Frequency\")\n",
    "plt.ylabel(\"Q\")\n",
    "plt.show()"
   ]
  },
  {
   "cell_type": "code",
   "execution_count": 12,
   "metadata": {},
   "outputs": [
    {
     "name": "stderr",
     "output_type": "stream",
     "text": [
      "Processing 2021-10-01 00:00:00:   0%|          | 0/248 [00:00<?, ?it/s]"
     ]
    },
    {
     "name": "stdout",
     "output_type": "stream",
     "text": [
      "First time step: Computing attenuation (Q = 150) & amplification\n"
     ]
    },
    {
     "name": "stderr",
     "output_type": "stream",
     "text": [
      "Processing 2021-10-31 21:00:00: 100%|██████████| 248/248 [01:12<00:00,  3.41it/s]\n",
      "Processing 2021-10-01 00:00:00:   0%|          | 0/248 [00:00<?, ?it/s]"
     ]
    },
    {
     "name": "stdout",
     "output_type": "stream",
     "text": [
      "First time step: Computing attenuation (Q = 160) & amplification\n"
     ]
    },
    {
     "name": "stderr",
     "output_type": "stream",
     "text": [
      "Processing 2021-10-31 21:00:00: 100%|██████████| 248/248 [01:07<00:00,  3.68it/s]\n",
      "Processing 2021-10-01 00:00:00:   0%|          | 0/248 [00:00<?, ?it/s]"
     ]
    },
    {
     "name": "stdout",
     "output_type": "stream",
     "text": [
      "First time step: Computing attenuation (Q = 170) & amplification\n"
     ]
    },
    {
     "name": "stderr",
     "output_type": "stream",
     "text": [
      "Processing 2021-10-31 21:00:00: 100%|██████████| 248/248 [00:58<00:00,  4.25it/s]\n",
      "Processing 2021-10-01 00:00:00:   0%|          | 0/248 [00:00<?, ?it/s]"
     ]
    },
    {
     "name": "stdout",
     "output_type": "stream",
     "text": [
      "First time step: Computing attenuation (Q = 180) & amplification\n"
     ]
    },
    {
     "name": "stderr",
     "output_type": "stream",
     "text": [
      "Processing 2021-10-31 21:00:00: 100%|██████████| 248/248 [00:58<00:00,  4.22it/s]\n",
      "Processing 2021-10-01 00:00:00:   0%|          | 0/248 [00:00<?, ?it/s]"
     ]
    },
    {
     "name": "stdout",
     "output_type": "stream",
     "text": [
      "First time step: Computing attenuation (Q = 190) & amplification\n"
     ]
    },
    {
     "name": "stderr",
     "output_type": "stream",
     "text": [
      "Processing 2021-10-31 21:00:00: 100%|██████████| 248/248 [00:57<00:00,  4.28it/s]\n",
      "Processing 2021-10-01 00:00:00:   0%|          | 0/248 [00:00<?, ?it/s]"
     ]
    },
    {
     "name": "stdout",
     "output_type": "stream",
     "text": [
      "First time step: Computing attenuation (Q = 200) & amplification\n"
     ]
    },
    {
     "name": "stderr",
     "output_type": "stream",
     "text": [
      "Processing 2021-10-31 21:00:00: 100%|██████████| 248/248 [00:56<00:00,  4.40it/s]\n",
      "Processing 2021-10-01 00:00:00:   0%|          | 0/248 [00:00<?, ?it/s]"
     ]
    },
    {
     "name": "stdout",
     "output_type": "stream",
     "text": [
      "First time step: Computing attenuation (Q = 210) & amplification\n"
     ]
    },
    {
     "name": "stderr",
     "output_type": "stream",
     "text": [
      "Processing 2021-10-31 21:00:00: 100%|██████████| 248/248 [00:57<00:00,  4.35it/s]\n",
      "Processing 2021-10-01 00:00:00:   0%|          | 0/248 [00:00<?, ?it/s]"
     ]
    },
    {
     "name": "stdout",
     "output_type": "stream",
     "text": [
      "First time step: Computing attenuation (Q = 220) & amplification\n"
     ]
    },
    {
     "name": "stderr",
     "output_type": "stream",
     "text": [
      "Processing 2021-10-31 21:00:00: 100%|██████████| 248/248 [00:56<00:00,  4.40it/s]\n",
      "Processing 2021-10-01 00:00:00:   0%|          | 0/248 [00:00<?, ?it/s]"
     ]
    },
    {
     "name": "stdout",
     "output_type": "stream",
     "text": [
      "First time step: Computing attenuation (Q = 230) & amplification\n"
     ]
    },
    {
     "name": "stderr",
     "output_type": "stream",
     "text": [
      "Processing 2021-10-31 21:00:00: 100%|██████████| 248/248 [00:56<00:00,  4.43it/s]\n",
      "Processing 2021-10-01 00:00:00:   0%|          | 0/248 [00:00<?, ?it/s]"
     ]
    },
    {
     "name": "stdout",
     "output_type": "stream",
     "text": [
      "First time step: Computing attenuation (Q = 240) & amplification\n"
     ]
    },
    {
     "name": "stderr",
     "output_type": "stream",
     "text": [
      "Processing 2021-10-31 21:00:00: 100%|██████████| 248/248 [00:56<00:00,  4.40it/s]\n",
      "Processing 2021-10-01 00:00:00:   0%|          | 0/248 [00:00<?, ?it/s]"
     ]
    },
    {
     "name": "stdout",
     "output_type": "stream",
     "text": [
      "First time step: Computing attenuation (Q = 250) & amplification\n"
     ]
    },
    {
     "name": "stderr",
     "output_type": "stream",
     "text": [
      "Processing 2021-10-31 21:00:00: 100%|██████████| 248/248 [00:55<00:00,  4.48it/s]\n",
      "Processing 2021-10-01 00:00:00:   0%|          | 0/248 [00:00<?, ?it/s]"
     ]
    },
    {
     "name": "stdout",
     "output_type": "stream",
     "text": [
      "First time step: Computing attenuation (Q = 260) & amplification\n"
     ]
    },
    {
     "name": "stderr",
     "output_type": "stream",
     "text": [
      "Processing 2021-10-31 21:00:00: 100%|██████████| 248/248 [00:56<00:00,  4.41it/s]\n",
      "Processing 2021-10-01 00:00:00:   0%|          | 0/248 [00:00<?, ?it/s]"
     ]
    },
    {
     "name": "stdout",
     "output_type": "stream",
     "text": [
      "First time step: Computing attenuation (Q = 270) & amplification\n"
     ]
    },
    {
     "name": "stderr",
     "output_type": "stream",
     "text": [
      "Processing 2021-10-31 21:00:00: 100%|██████████| 248/248 [00:57<00:00,  4.32it/s]\n",
      "Processing 2021-10-01 00:00:00:   0%|          | 0/248 [00:00<?, ?it/s]"
     ]
    },
    {
     "name": "stdout",
     "output_type": "stream",
     "text": [
      "First time step: Computing attenuation (Q = 280) & amplification\n"
     ]
    },
    {
     "name": "stderr",
     "output_type": "stream",
     "text": [
      "Processing 2021-10-31 21:00:00: 100%|██████████| 248/248 [00:54<00:00,  4.57it/s]\n",
      "Processing 2021-10-01 00:00:00:   0%|          | 0/248 [00:00<?, ?it/s]"
     ]
    },
    {
     "name": "stdout",
     "output_type": "stream",
     "text": [
      "First time step: Computing attenuation (Q = 290) & amplification\n"
     ]
    },
    {
     "name": "stderr",
     "output_type": "stream",
     "text": [
      "Processing 2021-10-31 21:00:00: 100%|██████████| 248/248 [00:54<00:00,  4.55it/s]\n",
      "Processing 2021-10-01 00:00:00:   0%|          | 0/248 [00:00<?, ?it/s]"
     ]
    },
    {
     "name": "stdout",
     "output_type": "stream",
     "text": [
      "First time step: Computing attenuation (Q = 300) & amplification\n"
     ]
    },
    {
     "name": "stderr",
     "output_type": "stream",
     "text": [
      "Processing 2021-10-31 21:00:00: 100%|██████████| 248/248 [00:56<00:00,  4.38it/s]\n",
      "Processing 2021-10-01 00:00:00:   0%|          | 0/248 [00:00<?, ?it/s]"
     ]
    },
    {
     "name": "stdout",
     "output_type": "stream",
     "text": [
      "First time step: Computing attenuation (Q = 310) & amplification\n"
     ]
    },
    {
     "name": "stderr",
     "output_type": "stream",
     "text": [
      "Processing 2021-10-31 21:00:00: 100%|██████████| 248/248 [00:55<00:00,  4.48it/s]\n",
      "Processing 2021-10-01 00:00:00:   0%|          | 0/248 [00:00<?, ?it/s]"
     ]
    },
    {
     "name": "stdout",
     "output_type": "stream",
     "text": [
      "First time step: Computing attenuation (Q = 320) & amplification\n"
     ]
    },
    {
     "name": "stderr",
     "output_type": "stream",
     "text": [
      "Processing 2021-10-31 21:00:00: 100%|██████████| 248/248 [00:55<00:00,  4.45it/s]\n",
      "Processing 2021-10-01 00:00:00:   0%|          | 0/248 [00:00<?, ?it/s]"
     ]
    },
    {
     "name": "stdout",
     "output_type": "stream",
     "text": [
      "First time step: Computing attenuation (Q = 330) & amplification\n"
     ]
    },
    {
     "name": "stderr",
     "output_type": "stream",
     "text": [
      "Processing 2021-10-31 21:00:00: 100%|██████████| 248/248 [00:57<00:00,  4.31it/s]\n",
      "Processing 2021-10-01 00:00:00:   0%|          | 0/248 [00:00<?, ?it/s]"
     ]
    },
    {
     "name": "stdout",
     "output_type": "stream",
     "text": [
      "First time step: Computing attenuation (Q = 340) & amplification\n"
     ]
    },
    {
     "name": "stderr",
     "output_type": "stream",
     "text": [
      "Processing 2021-10-31 21:00:00: 100%|██████████| 248/248 [00:58<00:00,  4.23it/s]\n",
      "Processing 2021-10-01 00:00:00:   0%|          | 0/248 [00:00<?, ?it/s]"
     ]
    },
    {
     "name": "stdout",
     "output_type": "stream",
     "text": [
      "First time step: Computing attenuation (Q = 350) & amplification\n"
     ]
    },
    {
     "name": "stderr",
     "output_type": "stream",
     "text": [
      "Processing 2021-10-31 21:00:00: 100%|██████████| 248/248 [01:00<00:00,  4.08it/s]\n",
      "Processing 2021-10-01 00:00:00:   0%|          | 0/248 [00:00<?, ?it/s]"
     ]
    },
    {
     "name": "stdout",
     "output_type": "stream",
     "text": [
      "First time step: Computing attenuation (Q = 360) & amplification\n"
     ]
    },
    {
     "name": "stderr",
     "output_type": "stream",
     "text": [
      "Processing 2021-10-31 21:00:00: 100%|██████████| 248/248 [00:59<00:00,  4.19it/s]\n",
      "Processing 2021-10-01 00:00:00:   0%|          | 0/248 [00:00<?, ?it/s]"
     ]
    },
    {
     "name": "stdout",
     "output_type": "stream",
     "text": [
      "First time step: Computing attenuation (Q = 370) & amplification\n"
     ]
    },
    {
     "name": "stderr",
     "output_type": "stream",
     "text": [
      "Processing 2021-10-31 21:00:00: 100%|██████████| 248/248 [00:57<00:00,  4.30it/s]\n",
      "Processing 2021-10-01 00:00:00:   0%|          | 0/248 [00:00<?, ?it/s]"
     ]
    },
    {
     "name": "stdout",
     "output_type": "stream",
     "text": [
      "First time step: Computing attenuation (Q = 380) & amplification\n"
     ]
    },
    {
     "name": "stderr",
     "output_type": "stream",
     "text": [
      "Processing 2021-10-31 21:00:00: 100%|██████████| 248/248 [00:57<00:00,  4.28it/s]\n",
      "Processing 2021-10-01 00:00:00:   0%|          | 0/248 [00:00<?, ?it/s]"
     ]
    },
    {
     "name": "stdout",
     "output_type": "stream",
     "text": [
      "First time step: Computing attenuation (Q = 390) & amplification\n"
     ]
    },
    {
     "name": "stderr",
     "output_type": "stream",
     "text": [
      "Processing 2021-10-31 21:00:00: 100%|██████████| 248/248 [00:58<00:00,  4.23it/s]\n",
      "Processing 2021-10-01 00:00:00:   0%|          | 0/248 [00:00<?, ?it/s]"
     ]
    },
    {
     "name": "stdout",
     "output_type": "stream",
     "text": [
      "First time step: Computing attenuation (Q = 400) & amplification\n"
     ]
    },
    {
     "name": "stderr",
     "output_type": "stream",
     "text": [
      "Processing 2021-10-31 21:00:00: 100%|██████████| 248/248 [00:57<00:00,  4.31it/s]\n",
      "Processing 2021-10-01 00:00:00:   0%|          | 0/248 [00:00<?, ?it/s]"
     ]
    },
    {
     "name": "stdout",
     "output_type": "stream",
     "text": [
      "First time step: Computing attenuation (Q = 410) & amplification\n"
     ]
    },
    {
     "name": "stderr",
     "output_type": "stream",
     "text": [
      "Processing 2021-10-31 21:00:00: 100%|██████████| 248/248 [00:59<00:00,  4.14it/s]\n",
      "Processing 2021-10-01 00:00:00:   0%|          | 0/248 [00:00<?, ?it/s]"
     ]
    },
    {
     "name": "stdout",
     "output_type": "stream",
     "text": [
      "First time step: Computing attenuation (Q = 420) & amplification\n"
     ]
    },
    {
     "name": "stderr",
     "output_type": "stream",
     "text": [
      "Processing 2021-10-31 21:00:00: 100%|██████████| 248/248 [00:59<00:00,  4.20it/s]\n",
      "Processing 2021-10-01 00:00:00:   0%|          | 0/248 [00:00<?, ?it/s]"
     ]
    },
    {
     "name": "stdout",
     "output_type": "stream",
     "text": [
      "First time step: Computing attenuation (Q = 430) & amplification\n"
     ]
    },
    {
     "name": "stderr",
     "output_type": "stream",
     "text": [
      "Processing 2021-10-31 21:00:00: 100%|██████████| 248/248 [00:53<00:00,  4.61it/s]\n",
      "Processing 2021-10-01 00:00:00:   0%|          | 0/248 [00:00<?, ?it/s]"
     ]
    },
    {
     "name": "stdout",
     "output_type": "stream",
     "text": [
      "First time step: Computing attenuation (Q = 440) & amplification\n"
     ]
    },
    {
     "name": "stderr",
     "output_type": "stream",
     "text": [
      "Processing 2021-10-31 21:00:00: 100%|██████████| 248/248 [00:52<00:00,  4.68it/s]\n",
      "Processing 2021-10-01 00:00:00:   0%|          | 0/248 [00:00<?, ?it/s]"
     ]
    },
    {
     "name": "stdout",
     "output_type": "stream",
     "text": [
      "First time step: Computing attenuation (Q = 450) & amplification\n"
     ]
    },
    {
     "name": "stderr",
     "output_type": "stream",
     "text": [
      "Processing 2021-10-31 21:00:00: 100%|██████████| 248/248 [00:52<00:00,  4.69it/s]\n",
      "Processing 2021-10-01 00:00:00:   0%|          | 0/248 [00:00<?, ?it/s]"
     ]
    },
    {
     "name": "stdout",
     "output_type": "stream",
     "text": [
      "First time step: Computing attenuation (Q = 460) & amplification\n"
     ]
    },
    {
     "name": "stderr",
     "output_type": "stream",
     "text": [
      "Processing 2021-10-31 21:00:00: 100%|██████████| 248/248 [00:53<00:00,  4.68it/s]\n",
      "Processing 2021-10-01 00:00:00:   0%|          | 0/248 [00:00<?, ?it/s]"
     ]
    },
    {
     "name": "stdout",
     "output_type": "stream",
     "text": [
      "First time step: Computing attenuation (Q = 470) & amplification\n"
     ]
    },
    {
     "name": "stderr",
     "output_type": "stream",
     "text": [
      "Processing 2021-10-31 21:00:00: 100%|██████████| 248/248 [00:53<00:00,  4.68it/s]\n",
      "Processing 2021-10-01 00:00:00:   0%|          | 0/248 [00:00<?, ?it/s]"
     ]
    },
    {
     "name": "stdout",
     "output_type": "stream",
     "text": [
      "First time step: Computing attenuation (Q = 480) & amplification\n"
     ]
    },
    {
     "name": "stderr",
     "output_type": "stream",
     "text": [
      "Processing 2021-10-31 21:00:00: 100%|██████████| 248/248 [00:52<00:00,  4.70it/s]\n",
      "Processing 2021-10-01 00:00:00:   0%|          | 0/248 [00:00<?, ?it/s]"
     ]
    },
    {
     "name": "stdout",
     "output_type": "stream",
     "text": [
      "First time step: Computing attenuation (Q = 490) & amplification\n"
     ]
    },
    {
     "name": "stderr",
     "output_type": "stream",
     "text": [
      "Processing 2021-10-31 21:00:00: 100%|██████████| 248/248 [00:52<00:00,  4.68it/s]\n",
      "Processing 2021-10-01 00:00:00:   0%|          | 0/248 [00:00<?, ?it/s]"
     ]
    },
    {
     "name": "stdout",
     "output_type": "stream",
     "text": [
      "First time step: Computing attenuation (Q = 500) & amplification\n"
     ]
    },
    {
     "name": "stderr",
     "output_type": "stream",
     "text": [
      "Processing 2021-10-31 21:00:00: 100%|██████████| 248/248 [00:53<00:00,  4.64it/s]\n"
     ]
    }
   ],
   "source": [
    "Qs = np.linspace(150,500,36)\n",
    "for Q in Qs:\n",
    "    dfF_fs = get_ww3(configs, Q, 10, lats, lons, Re, dpt, Cf, distance_df, plot=False)"
   ]
  },
  {
   "cell_type": "code",
   "execution_count": null,
   "metadata": {},
   "outputs": [],
   "source": []
  },
  {
   "cell_type": "code",
   "execution_count": 13,
   "metadata": {},
   "outputs": [
    {
     "data": {
      "image/png": "[encoded data removed]",
      "text/plain": [
       "<Figure size 1152x288 with 2 Axes>"
      ]
     },
     "metadata": {},
     "output_type": "display_data"
    },
    {
     "data": {
      "image/png": "[encoded data removed]",
      "text/plain": [
       "<Figure size 1152x360 with 1 Axes>"
      ]
     },
     "metadata": {},
     "output_type": "display_data"
    }
   ],
   "source": [
    "fig = plt.figure(figsize=(16,4), facecolor=\"w\")\n",
    "cmap = plt.get_cmap('viridis')\n",
    "psd = 10* np.log10(dfF_fs)\n",
    "plt.pcolormesh(dfF_fs.columns, 1./dfF_fs.index, psd, cmap=cmap, vmin = -150, vmax =-110)\n",
    "plt.colorbar().set_label(\"Amplitude (dB)\")\n",
    "plt.ylabel(\"Period (s)\")\n",
    "plt.yscale('log')\n",
    "fig.autofmt_xdate()\n",
    "#plt.ylim(10e-2,10e2)\n",
    "plt.show()\n",
    "\n",
    "\n",
    "fig = plt.figure(figsize=(16,5), facecolor=\"w\")\n",
    "integ = np.sqrt(scipy.integrate.trapz(dfF_fs.fillna(0), dfF_fs.index, axis=0))\n",
    "plt.plot(dfF_fs.columns, integ)\n",
    "plt.ylabel(\"Amplitude\")\n",
    "fig.autofmt_xdate()\n",
    "plt.xlim(dfF_fs.columns[0],dfF_fs.columns[-1])\n",
    "plt.show()"
   ]
  },
  {
   "cell_type": "code",
   "execution_count": null,
   "metadata": {},
   "outputs": [],
   "source": []
  },
  {
   "cell_type": "code",
   "execution_count": null,
   "metadata": {},
   "outputs": [],
   "source": []
  }
 ],
 "metadata": {
  "kernelspec": {
   "display_name": "Python 3",
   "language": "python",
   "name": "python3"
  },
  "language_info": {
   "codemirror_mode": {
    "name": "ipython",
    "version": 3
   },
   "file_extension": ".py",
   "mimetype": "text/x-python",
   "name": "python",
   "nbconvert_exporter": "python",
   "pygments_lexer": "ipython3",
   "version": "3.7.3"
  },
  "latex_metadata": {
   "affiliation": "Royal Observatory of Belgium",
   "author": "Thomas Lecocq",
   "template": "better-article",
   "title": "WW3 Model tutorial"
  }
 },
 "nbformat": 4,
 "nbformat_minor": 4
}
