{
 "cells": [
  {
   "cell_type": "code",
   "execution_count": 1,
   "id": "2f78a79e",
   "metadata": {},
   "outputs": [],
   "source": [
    "import ftplib\n",
    "import os\n",
    "import tqdm"
   ]
  },
  {
   "cell_type": "code",
   "execution_count": 2,
   "id": "41e2ac0b",
   "metadata": {},
   "outputs": [],
   "source": [
    "# Fill Required Information\n",
    "HOSTNAME = \"ftp.ifremer.fr\"\n",
    "\n"
   ]
  },
  {
   "cell_type": "code",
   "execution_count": 3,
   "id": "9e65fd6f",
   "metadata": {},
   "outputs": [],
   "source": [
    "\n",
    "# Connect FTP Server\n",
    "ftp_server = ftplib.FTP(HOSTNAME)\n",
    "ftp_server.login() # Anonymous login\n",
    "# force UTF-8 encoding\n",
    "ftp_server.encoding = \"utf-8\""
   ]
  },
  {
   "cell_type": "code",
   "execution_count": 4,
   "id": "c86b7b7e",
   "metadata": {},
   "outputs": [],
   "source": [
    "#ftp_server.prot_p()# switch to secure data connection"
   ]
  },
  {
   "cell_type": "code",
   "execution_count": 5,
   "id": "b58ec022",
   "metadata": {},
   "outputs": [],
   "source": [
    "sismo_path = \"ifremer/ww3/PROJECT/SISMO/\" # Target directory on IFREMER FTP server\n",
    "year = 1950\n",
    "p2l_save = \"P2L\" # Local save Directory\n",
    "if not os.path.isdir(p2l_save):\n",
    "    os.mkdir(p2l_save)"
   ]
  },
  {
   "cell_type": "code",
   "execution_count": 6,
   "id": "bab4b9a7",
   "metadata": {},
   "outputs": [
    {
     "name": "stdout",
     "output_type": "stream",
     "text": [
      "ifremer/ww3/PROJECT/SISMO/GLOBAL_ER20C_NOREF_14\n"
     ]
    },
    {
     "name": "stderr",
     "output_type": "stream",
     "text": [
      "Downloading ifremer/ww3/PROJECT/SISMO/GLOBAL_ER20C_NOREF_14: 100%|██████████| 12/12 [15:33<00:00, 77.76s/it]\n"
     ]
    },
    {
     "name": "stdout",
     "output_type": "stream",
     "text": [
      "ifremer/ww3/PROJECT/SISMO/GLOBAL_ER20C_REF124_13\n"
     ]
    },
    {
     "name": "stderr",
     "output_type": "stream",
     "text": [
      "Downloading ifremer/ww3/PROJECT/SISMO/GLOBAL_ER20C_REF124_13: 100%|██████████| 12/12 [19:24<00:00, 97.05s/it] \n"
     ]
    },
    {
     "data": {
      "text/plain": [
       "'221 Goodbye.'"
      ]
     },
     "execution_count": 6,
     "metadata": {},
     "output_type": "execute_result"
    }
   ],
   "source": [
    "ref_paths = []\n",
    "\n",
    "try:\n",
    "    ref_paths = ftp_server.nlst(sismo_path) # Get initial work directories with and without reflection\n",
    "except ftplib.error_perm as resp:\n",
    "    if str(resp) == \"550 No files found\":\n",
    "        print(\"No files in this directory\")\n",
    "    else:\n",
    "        raise\n",
    "\n",
    "for p in ref_paths:\n",
    "    print(p)\n",
    "    f_list = ftp_server.nlst(os.path.join(p,\"{}\".format(year), \"FIELD_NC\"))\n",
    "    p2l_list = [i for i in f_list if \"_p2l.nc\" in i] # Only list the p2l files\n",
    "    pbar = tqdm.tqdm(p2l_list, desc=\"Downloading {}\".format(p))\n",
    "    for p2l in pbar:\n",
    "        #print(p2l)\n",
    "        fn = p2l.split(\"/SISMO/\")[1].split(\"FIELD_NC/\")[1]\n",
    "        save_dir = os.path.join(p2l_save, p2l.split(\"/SISMO/\")[1].split(\"/LOPS\")[0])\n",
    "        if not os.path.isdir(save_dir):\n",
    "            os.makedirs(save_dir)\n",
    "        fpath = os.path.join(save_dir, fn)\n",
    "        if not os.path.isfile(fpath):\n",
    "            ftp_server.retrbinary('RETR {}'.format(p2l),open(fpath, 'wb').write)\n",
    "ftp_server.quit()"
   ]
  },
  {
   "cell_type": "code",
   "execution_count": null,
   "id": "18f029aa",
   "metadata": {},
   "outputs": [],
   "source": []
  },
  {
   "cell_type": "code",
   "execution_count": null,
   "id": "8508895f",
   "metadata": {},
   "outputs": [],
   "source": []
  }
 ],
 "metadata": {
  "kernelspec": {
   "display_name": "Python 3",
   "language": "python",
   "name": "python3"
  },
  "language_info": {
   "codemirror_mode": {
    "name": "ipython",
    "version": 3
   },
   "file_extension": ".py",
   "mimetype": "text/x-python",
   "name": "python",
   "nbconvert_exporter": "python",
   "pygments_lexer": "ipython3",
   "version": "3.7.3"
  }
 },
 "nbformat": 4,
 "nbformat_minor": 5
}
